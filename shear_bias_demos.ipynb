{
 "cells": [
  {
   "cell_type": "markdown",
   "id": "9907b1b2-185e-41fa-8719-99158c769353",
   "metadata": {
    "editable": true,
    "slideshow": {
     "slide_type": "slide"
    },
    "tags": []
   },
   "source": [
    "## Shear estimation bias experiments\n",
    "\n",
    "This is a notebook that runs a few shape measurement experiements to demonstrate some\n",
    "common shear estimation biases: e.g. noise bias, model bias \n",
    "We use the package GalSim (https://galsim-developers.github.io/GalSim/_build/html/index.html#)\n",
    "which is a useful tool for generating galaxy image simulations (and was partly developed for \n",
    "community shear estimation challenges like GREAT03 https://arxiv.org/abs/1308.4982 that invited \n",
    "cosmologists and computer scientists to test out their approaches on blind data."
   ]
  },
  {
   "cell_type": "code",
   "execution_count": 1,
   "id": "aa767dd4-2c8d-4255-bb1b-76fc7df45d3e",
   "metadata": {
    "editable": true,
    "slideshow": {
     "slide_type": "slide"
    },
    "tags": []
   },
   "outputs": [],
   "source": [
    "import galsim\n",
    "import numpy as np\n",
    "import matplotlib\n",
    "import pylab\n",
    "import os\n",
    "import matplotlib\n",
    "matplotlib.use(\"Agg\")\n",
    "import matplotlib.pyplot as plt"
   ]
  },
  {
   "cell_type": "markdown",
   "id": "e0795031-28bd-420f-b75a-54d9e2c95064",
   "metadata": {
    "editable": true,
    "slideshow": {
     "slide_type": "slide"
    },
    "tags": []
   },
   "source": [
    "Initialize some simple galaxy profile using GalSim"
   ]
  },
  {
   "cell_type": "code",
   "execution_count": 2,
   "id": "122ca422-99dd-4d6b-b81c-9aa85e5c1088",
   "metadata": {
    "editable": true,
    "slideshow": {
     "slide_type": "fragment"
    },
    "tags": []
   },
   "outputs": [],
   "source": [
    "#input galaxy params\n",
    "gal_flux = 1.e5\n",
    "gal_sigma = 1.\n",
    "input_e1 = 0.1\n",
    "input_e2 = 0.\n",
    "pixel_scale=0.2\n",
    "\n",
    "#some simple input galaxy model\n",
    "gal = galsim.Gaussian(flux=gal_flux, sigma=gal_sigma)\n",
    "gal = gal.shear(g1=input_e1, g2=input_e2)"
   ]
  },
  {
   "cell_type": "markdown",
   "id": "e3974e8d-8d71-4a71-94f6-28a0bee9e1e5",
   "metadata": {
    "editable": true,
    "slideshow": {
     "slide_type": "slide"
    },
    "tags": []
   },
   "source": [
    "draw this to an image, and plot"
   ]
  },
  {
   "cell_type": "code",
   "execution_count": 3,
   "id": "d55c61a8-a9fe-40e0-92d9-cb1ac14954d8",
   "metadata": {
    "editable": true,
    "slideshow": {
     "slide_type": "fragment"
    },
    "tags": []
   },
   "outputs": [
    {
     "data": {
      "text/plain": [
       "<matplotlib.image.AxesImage at 0x12c4e1fd0>"
      ]
     },
     "execution_count": 3,
     "metadata": {},
     "output_type": "execute_result"
    },
    {
     "data": {
      "image/png": "[encoded data removed]",
      "text/plain": [
       "<Figure size 640x480 with 1 Axes>"
      ]
     },
     "metadata": {},
     "output_type": "display_data"
    }
   ],
   "source": [
    "%matplotlib inline\n",
    "#galaxy image\n",
    "\n",
    "fig,ax=plt.subplots()\n",
    "gal_im = gal.drawImage(scale=pixel_scale)\n",
    "ax.imshow(gal_im.array)"
   ]
  },
  {
   "cell_type": "markdown",
   "id": "57db5f00-a1cc-43d2-86e2-cc20abbc2733",
   "metadata": {
    "editable": true,
    "slideshow": {
     "slide_type": "slide"
    },
    "tags": []
   },
   "source": [
    "## Measure the ellipticity\n",
    "\n",
    "Use quadrupole moments:\n",
    "\n",
    "First find centroid:\n",
    "$[\\bar{x_1},\\bar{x_2}] = \\frac{\\int \\mathrm{d}^2{x} I(x_1,x_2) [x_1,x_2]}{\\int  \\mathrm{d}^2{x} I(x_1,x_2)} $\n",
    "\n",
    "Then compute quadrupole moments (c.f. variance = 2nd moment of PDF):\n",
    "$Q_{ij} =  \\frac{\\int \\mathrm{d}^2{x} I(x_1,x_2)[x_i-\\bar{x_i},x_j-\\bar{x_j}]}{\\int  \\mathrm{d}^2{x} I(x_1,y_2)}$\n",
    "\n",
    "Now define ellipticity:\n",
    "$e_1 = \\frac{Q_{11} - Q_{22}}{Q_{11} + Q_{22} + 2( Q_{11}Q_{22} - Q_{12}^2 )^{1/2} }$, $e_2 = \\frac{Q_{12}}{Q_{11} + Q_{22} + 2(Q_{11}Q_{22}-Q_{12}^2)^{1/2}}$\n",
    "\n",
    "(e1 = how extended in x vs. y, e2 = how extended along x=y vs. x=-y)"
   ]
  },
  {
   "cell_type": "code",
   "execution_count": 4,
   "id": "8b1c79e4-17cf-4ca3-8aac-910cf57b5ce8",
   "metadata": {
    "editable": true,
    "slideshow": {
     "slide_type": "slide"
    },
    "tags": []
   },
   "outputs": [],
   "source": [
    "def get_centroid(gal_im):\n",
    "    X,Y = np.meshgrid(np.arange(gal_im.shape[0]), np.arange(gal_im.shape[1]))\n",
    "    denom = np.sum(gal_im)\n",
    "    return (np.sum(gal_im*X)/denom, np.sum(gal_im*Y)/denom)\n",
    "\n",
    "def get_second_moments(gal_im):\n",
    "    X,Y = np.meshgrid(np.arange(gal_im.shape[0]), np.arange(gal_im.shape[1]))\n",
    "    xbar,ybar = get_centroid(gal_im)\n",
    "    denom = np.sum(gal_im)\n",
    "    Qxx = np.sum( gal_im * (X-xbar)**2 )\n",
    "    Qyy = np.sum( gal_im * (Y-ybar)**2 )\n",
    "    Qxy = np.sum( gal_im * (X-xbar) * (Y-ybar) )\n",
    "    return Qxx, Qyy, Qxy\n",
    "\n",
    "def get_shear(gal_im):\n",
    "    Qxx, Qyy, Qxy = get_second_moments(gal_im)\n",
    "    e1_num = (Qxx - Qyy)\n",
    "    e2_num = 2*Qxy\n",
    "    denom = Qxx + Qyy + 2*np.sqrt(Qxx*Qyy - Qxy**2)\n",
    "    return (e1_num/denom, e2_num/denom)"
   ]
  },
  {
   "cell_type": "markdown",
   "id": "7ab1e33a-7d03-43ef-b3bc-4d88428ad91b",
   "metadata": {
    "editable": true,
    "slideshow": {
     "slide_type": "slide"
    },
    "tags": []
   },
   "source": [
    "## Run on our sample image"
   ]
  },
  {
   "cell_type": "code",
   "execution_count": 5,
   "id": "64b0a533-fba7-4874-a1f6-a1c284256434",
   "metadata": {
    "editable": true,
    "slideshow": {
     "slide_type": "fragment"
    },
    "tags": []
   },
   "outputs": [
    {
     "name": "stdout",
     "output_type": "stream",
     "text": [
      "e1, e2 = (0.09966773955245661, -8.552438867074685e-08)\n"
     ]
    }
   ],
   "source": [
    "print(\"e1, e2 =\", get_shear(gal_im.array))"
   ]
  },
  {
   "cell_type": "markdown",
   "id": "4a794276-9bbf-44d8-95d4-414a3cae7b09",
   "metadata": {
    "editable": true,
    "slideshow": {
     "slide_type": "fragment"
    },
    "tags": []
   },
   "source": [
    "Great, we got out what we put in...\n",
    "Now what about if we have noise? \n",
    "Let's assume simple Gaussian noise...what does our galaxy look like now?"
   ]
  },
  {
   "cell_type": "code",
   "execution_count": 6,
   "id": "823a7077-b9a3-4e67-b86f-8dffad1f9a4d",
   "metadata": {
    "editable": true,
    "slideshow": {
     "slide_type": "slide"
    },
    "tags": []
   },
   "outputs": [],
   "source": [
    "rng=galsim.BaseDeviate(1234) #initialize some rng \n",
    "noise_sigma=15"
   ]
  },
  {
   "cell_type": "code",
   "execution_count": 7,
   "id": "8dfab701-f024-44ed-a40d-fd7d6eb5e0a7",
   "metadata": {
    "editable": true,
    "slideshow": {
     "slide_type": "fragment"
    },
    "tags": []
   },
   "outputs": [
    {
     "name": "stdout",
     "output_type": "stream",
     "text": [
      "galsim.Image(bounds=galsim.BoundsI(1,68,1,68), scale=0.2, dtype=numpy.float32)\n"
     ]
    },
    {
     "data": {
      "text/plain": [
       "<matplotlib.image.AxesImage at 0x12c6847d0>"
      ]
     },
     "execution_count": 7,
     "metadata": {},
     "output_type": "execute_result"
    },
    {
     "data": {
      "image/png": "[encoded data removed]",
      "text/plain": [
       "<Figure size 640x480 with 1 Axes>"
      ]
     },
     "metadata": {},
     "output_type": "display_data"
    }
   ],
   "source": [
    "%matplotlib inline\n",
    "gal_im = gal.drawImage(scale=pixel_scale)\n",
    "gal_im.addNoise(galsim.GaussianNoise(rng, sigma=noise_sigma))\n",
    "print(gal_im)\n",
    "fig,ax=plt.subplots()\n",
    "ax.imshow(gal_im.array)"
   ]
  },
  {
   "cell_type": "markdown",
   "id": "38127c97-b7dd-46b5-8f86-2eee11f5d8a0",
   "metadata": {
    "editable": true,
    "slideshow": {
     "slide_type": "slide"
    },
    "tags": []
   },
   "source": [
    "Measure it's shape again..."
   ]
  },
  {
   "cell_type": "code",
   "execution_count": 8,
   "id": "364fae26-1461-4cd0-b4cf-66f6c8c8a310",
   "metadata": {
    "editable": true,
    "slideshow": {
     "slide_type": "fragment"
    },
    "tags": []
   },
   "outputs": [
    {
     "name": "stdout",
     "output_type": "stream",
     "text": [
      "e1, e2 = (0.40006082229588336, 0.09454462507674823)\n"
     ]
    }
   ],
   "source": [
    "print(\"e1, e2 =\", get_shear(gal_im.array))"
   ]
  },
  {
   "cell_type": "markdown",
   "id": "41eba607-dfe1-4243-81f0-5cfc4c3dafe8",
   "metadata": {
    "editable": true,
    "slideshow": {
     "slide_type": "fragment"
    },
    "tags": []
   },
   "source": [
    "Is it just noisy or also biased? Run on a load of noise realisations..."
   ]
  },
  {
   "cell_type": "code",
   "execution_count": 9,
   "id": "2eb58026-2590-4030-a1ca-ef24b9c39790",
   "metadata": {
    "editable": true,
    "slideshow": {
     "slide_type": "slide"
    },
    "tags": []
   },
   "outputs": [
    {
     "name": "stdout",
     "output_type": "stream",
     "text": [
      "done 0 realisations\n",
      "done 100 realisations\n",
      "done 200 realisations\n",
      "done 300 realisations\n",
      "done 400 realisations\n",
      "done 500 realisations\n",
      "done 600 realisations\n",
      "done 700 realisations\n",
      "done 800 realisations\n",
      "done 900 realisations\n",
      "mean e1, e2 = [ 0.10513492 -0.00081536]\n"
     ]
    }
   ],
   "source": [
    "num_realisations = 1000\n",
    "e1_and_e2s = np.zeros((num_realisations, 2))\n",
    "for i in range(num_realisations):\n",
    "    if i%100==0:\n",
    "        print(\"done %d realisations\"%i)\n",
    "    gal_im = gal.drawImage(scale=pixel_scale)\n",
    "    gal_im.addNoise(galsim.GaussianNoise(rng, sigma=noise_sigma))\n",
    "    e1,e2 = get_shear(gal_im.array)\n",
    "    e1_and_e2s[i] = np.array([e1,e2])\n",
    "\n",
    "print(\"mean e1, e2 =\", e1_and_e2s.mean(axis=0))"
   ]
  },
  {
   "cell_type": "code",
   "execution_count": 10,
   "id": "656d28d0-6de9-46e7-a8a1-9631481f5666",
   "metadata": {
    "editable": true,
    "slideshow": {
     "slide_type": "skip"
    },
    "tags": []
   },
   "outputs": [],
   "source": [
    "def plot_e1_hist(ax, e1s):\n",
    "    ax.hist(e1s, density=True, color='k', histtype='step')\n",
    "    mean_e1 = e1s.mean()\n",
    "    mean_e1_err = np.std(e1s)/np.sqrt(len(e1s))\n",
    "    ylim=ax.get_ylim()\n",
    "    ax.plot([mean_e1,mean_e1], ylim, color='C0')\n",
    "    ax.fill_betweenx(ylim, mean_e1-2*mean_e1_err, mean_e1+2*mean_e1_err, color='C0', alpha=0.25)\n",
    "    ax.set_ylim(ylim)"
   ]
  },
  {
   "cell_type": "code",
   "execution_count": 11,
   "id": "f39c1d88-1f43-4293-8084-998e07c592c1",
   "metadata": {
    "editable": true,
    "slideshow": {
     "slide_type": "slide"
    },
    "tags": []
   },
   "outputs": [
    {
     "name": "stdout",
     "output_type": "stream",
     "text": [
      "bias in e1, e2 = [ 0.00513492 -0.00081536]\n",
      "fractional bias in e1 = 5.13%\n"
     ]
    },
    {
     "data": {
      "image/png": "[encoded data removed]",
      "text/plain": [
       "<Figure size 640x480 with 1 Axes>"
      ]
     },
     "metadata": {},
     "output_type": "display_data"
    }
   ],
   "source": [
    "%matplotlib inline\n",
    "\n",
    "fig,ax=plt.subplots()\n",
    "\n",
    "plot_e1_hist(ax, e1_and_e2s[:,0])\n",
    "print(\"bias in e1, e2 =\", e1_and_e2s.mean(axis=0) - np.array([input_e1, input_e2]))\n",
    "print(\"fractional bias in e1 = %.2f%%\"%(100*(e1_and_e2s[:,0].mean() - input_e1)/input_e1))"
   ]
  },
  {
   "cell_type": "markdown",
   "id": "05eaa27d-4eb7-4f78-bb45-beb7bbf82fa6",
   "metadata": {
    "editable": true,
    "slideshow": {
     "slide_type": "slide"
    },
    "tags": []
   },
   "source": [
    "Why is the estimator biased?"
   ]
  },
  {
   "cell_type": "markdown",
   "id": "07465689-07c8-46e3-92e0-26403ce16abd",
   "metadata": {
    "editable": true,
    "slideshow": {
     "slide_type": "fragment"
    },
    "tags": []
   },
   "source": [
    "Because of the noise: **Noise bias**\n",
    "Any estimator that is a non-linear function of noisy data will suffer from this. \n",
    "E.g. we have a model y = m*x, both y and x are noisy. Is y/x an unbiased estimator for x?\n",
    "The estimator is even more problematic when we have noisier data:"
   ]
  },
  {
   "cell_type": "code",
   "execution_count": 12,
   "id": "be5c8326-e52a-41bc-b824-91419dc8e833",
   "metadata": {
    "editable": true,
    "slideshow": {
     "slide_type": "slide"
    },
    "tags": []
   },
   "outputs": [
    {
     "name": "stdout",
     "output_type": "stream",
     "text": [
      "done 0 realisations\n",
      "done 100 realisations\n",
      "done 200 realisations\n",
      "done 300 realisations\n",
      "done 400 realisations\n"
     ]
    },
    {
     "name": "stderr",
     "output_type": "stream",
     "text": [
      "/var/folders/z8/dfsq32cd3x76jkqr3qqvfqqh0000gn/T/ipykernel_60455/1661882208.py:19: RuntimeWarning: invalid value encountered in sqrt\n",
      "  denom = Qxx + Qyy + 2*np.sqrt(Qxx*Qyy - Qxy**2)\n"
     ]
    },
    {
     "name": "stdout",
     "output_type": "stream",
     "text": [
      "done 500 realisations\n",
      "done 600 realisations\n",
      "done 700 realisations\n",
      "done 800 realisations\n",
      "done 900 realisations\n",
      "mean e1, e2 = [nan nan]\n"
     ]
    }
   ],
   "source": [
    "noise_sigma=150\n",
    "num_realisations = 1000\n",
    "e1_and_e2s = np.zeros((num_realisations, 2))\n",
    "for i in range(num_realisations):\n",
    "    if i%100==0:\n",
    "        print(\"done %d realisations\"%i)\n",
    "    gal_im = gal.drawImage(scale=pixel_scale)\n",
    "    gal_im.addNoise(galsim.GaussianNoise(rng, sigma=noise_sigma))\n",
    "    e1,e2 = get_shear(gal_im.array)\n",
    "    e1_and_e2s[i] = np.array([e1,e2])\n",
    "print(\"mean e1, e2 =\", e1_and_e2s.mean(axis=0))"
   ]
  },
  {
   "cell_type": "markdown",
   "id": "88829cfc-2fa5-43ab-8f1d-52d6a9396589",
   "metadata": {
    "editable": true,
    "slideshow": {
     "slide_type": "slide"
    },
    "tags": []
   },
   "source": [
    "## What has happened here?\n",
    "## This estimator can diverge for noisy data! "
   ]
  },
  {
   "cell_type": "markdown",
   "id": "837c319b-8a3e-44ef-b7d1-98858263decd",
   "metadata": {
    "editable": true,
    "slideshow": {
     "slide_type": "slide"
    },
    "tags": []
   },
   "source": [
    "## We can use a weight function $W(x_1,x_2)$ in our moments calculations to make things more stable:\n",
    "\n",
    "## $Q_{ij} =  \\frac{\\int \\mathrm{d}^2{x} W(x_1,x_2) I(x_1,x_2)[x_i-\\bar{x_i},x_j-\\bar{x_j}]}{\\int  \\mathrm{d}^2{x} W(x_1,x_2) I(x_1,y_2)}$\n",
    "\n",
    "## Choose $W$ to upweight pixels where $S/N$ is high e.g. let's try a circular Gaussian with $\\sigma$ equal to the size of the galaxy\n",
    "## We can use the same get_shear function as before, but passing the weighted galaxy image, W * gal_im instead"
   ]
  },
  {
   "cell_type": "code",
   "execution_count": 13,
   "id": "0fba562b-f5f4-423e-8696-51ad639029fb",
   "metadata": {
    "editable": true,
    "slideshow": {
     "slide_type": "slide"
    },
    "tags": []
   },
   "outputs": [
    {
     "name": "stdout",
     "output_type": "stream",
     "text": [
      "done 0 realisations\n",
      "done 100 realisations\n",
      "done 200 realisations\n",
      "done 300 realisations\n",
      "done 400 realisations\n",
      "done 500 realisations\n",
      "done 600 realisations\n",
      "done 700 realisations\n",
      "done 800 realisations\n",
      "done 900 realisations\n",
      "mean e1, e2 = [4.99868395e-02 8.42915692e-05]\n",
      "bias in e1, e2= [-5.00131605e-02  8.42915692e-05]\n",
      "fractional bias in e1= -0.5001316051903026\n"
     ]
    }
   ],
   "source": [
    "W = galsim.Gaussian(sigma=gal_sigma)\n",
    "\n",
    "num_realisations = 1000\n",
    "e1_and_e2s = np.zeros((num_realisations, 2))\n",
    "for i in range(num_realisations):\n",
    "    if i%100==0:\n",
    "        print(\"done %d realisations\"%i)\n",
    "    gal_im = gal.drawImage(scale=pixel_scale)\n",
    "    weight_im = W.drawImage(scale=pixel_scale, bounds=gal_im.bounds)\n",
    "    gal_im.addNoise(galsim.GaussianNoise(rng, sigma=noise_sigma))\n",
    "    e1,e2 = get_shear(weight_im.array * gal_im.array)\n",
    "    e1_and_e2s[i] = np.array([e1,e2])\n",
    "\n",
    "print(\"mean e1, e2 =\", e1_and_e2s.mean(axis=0))\n",
    "print(\"bias in e1, e2=\", e1_and_e2s.mean(axis=0) - np.array([input_e1, input_e2]))\n",
    "print(\"fractional bias in e1=\", (e1_and_e2s[:,0].mean() - input_e1)/input_e1)"
   ]
  },
  {
   "cell_type": "code",
   "execution_count": 14,
   "id": "20c2667b-7e94-49ca-b8d6-1d9dcff97c28",
   "metadata": {
    "editable": true,
    "scrolled": true,
    "slideshow": {
     "slide_type": "slide"
    },
    "tags": []
   },
   "outputs": [
    {
     "name": "stdout",
     "output_type": "stream",
     "text": [
      "done 0 realisations\n",
      "mean e1, e2 = [7.48588194e-02 4.03972628e-09]\n",
      "bias in e1, e2= [-2.51411806e-02  4.03972628e-09]\n",
      "fractional bias in e1 = -25.14%\n"
     ]
    }
   ],
   "source": [
    "## Ok now we get something that converges...but it is biased. Why?\n",
    "## Because we've used a circular weight function! \n",
    "W_elliptical = galsim.Gaussian(sigma=gal_sigma)\n",
    "W_elliptical = W_elliptical.shear(e1=input_e1,e2=input_e2)\n",
    "\n",
    "num_realisations opll= 100\n",
    "e1_and_e2s = np.zeros((num_realisations, 2))\n",
    "for i in range(num_realisations):\n",
    "    if i%100==0:\n",
    "        print(\"done %d realisations\"%i)\n",
    "    gal_im = gal.drawImage(scale=pixel_scale)\n",
    "    weight_im = W_elliptical.drawImage(scale=pixel_scale, bounds=gal_im.bounds)\n",
    "    gal_im.addNoise(galsim.GaussianNoise(rng, sigma=0.0001))\n",
    "    e1,e2 = get_shear(weight_im.array * gal_im.array)\n",
    "    e1_and_e2s[i] = np.array([e1,e2])\n",
    "\n",
    "print(\"mean e1, e2 =\", e1_and_e2s.mean(axis=0))\n",
    "print(\"bias in e1, e2=\", e1_and_e2s.mean(axis=0) - np.array([input_e1, input_e2]))\n",
    "print(\"fractional bias in e1 = %.2f%%\"%(100*(e1_and_e2s[:,0].mean() - input_e1)/input_e1))"
   ]
  },
  {
   "cell_type": "markdown",
   "id": "a68b31fb-9751-4cfe-8820-8c86a87b9347",
   "metadata": {
    "editable": true,
    "slideshow": {
     "slide_type": "slide"
    },
    "tags": []
   },
   "source": [
    "Estimator converges again, but now it is biased. Why? "
   ]
  },
  {
   "cell_type": "markdown",
   "id": "7f6227bc-b631-44dc-ac6b-710bed04fef0",
   "metadata": {
    "editable": true,
    "slideshow": {
     "slide_type": "slide"
    },
    "tags": []
   },
   "source": [
    "Because we used a circular weight function (we're now measuring the shape of W * gal_im). If we don't want to use a weight function, how else can we beat this noise bias? "
   ]
  },
  {
   "cell_type": "code",
   "execution_count": null,
   "id": "2c20e812-0472-4a77-a32a-8c9c522297a2",
   "metadata": {
    "editable": true,
    "slideshow": {
     "slide_type": ""
    },
    "tags": []
   },
   "outputs": [],
   "source": []
  },
  {
   "cell_type": "code",
   "execution_count": null,
   "id": "716ac77b-d3b0-47bd-8682-7c06db8f0c2a",
   "metadata": {
    "editable": true,
    "slideshow": {
     "slide_type": ""
    },
    "tags": []
   },
   "outputs": [],
   "source": []
  },
  {
   "cell_type": "code",
   "execution_count": null,
   "id": "3d4c129d-4dbd-4bdd-9d58-b90c2add6f51",
   "metadata": {
    "editable": true,
    "slideshow": {
     "slide_type": ""
    },
    "tags": []
   },
   "outputs": [],
   "source": []
  }
 ],
 "metadata": {
  "kernelspec": {
   "display_name": "Python 3 (ipykernel)",
   "language": "python",
   "name": "python3"
  },
  "language_info": {
   "codemirror_mode": {
    "name": "ipython",
    "version": 3
   },
   "file_extension": ".py",
   "mimetype": "text/x-python",
   "name": "python",
   "nbconvert_exporter": "python",
   "pygments_lexer": "ipython3",
   "version": "3.12.2"
  }
 },
 "nbformat": 4,
 "nbformat_minor": 5
}
