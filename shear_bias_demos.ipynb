{
 "cells": [
  {
   "cell_type": "code",
   "execution_count": 2,
   "id": "aa767dd4-2c8d-4255-bb1b-76fc7df45d3e",
   "metadata": {
    "tags": []
   },
   "outputs": [],
   "source": [
    "import galsim\n",
    "import numpy as np\n",
    "import matplotlib\n",
    "import pylab\n",
    "import os\n",
    "import matplotlib.pyplot as plt\n",
    "import matplotlib.animation\n",
    "plt.rcParams[\"animation.html\"] = \"jshtml\"\n",
    "\n",
    "from scipy.interpolate import CubicSpline"
   ]
  },
  {
   "cell_type": "markdown",
   "id": "e0795031-28bd-420f-b75a-54d9e2c95064",
   "metadata": {},
   "source": [
    "## Initialize some simple galaxy profile using GalSim (https://galsim-developers.github.io/GalSim/_build/html/index.html#)"
   ]
  },
  {
   "cell_type": "code",
   "execution_count": 3,
   "id": "122ca422-99dd-4d6b-b81c-9aa85e5c1088",
   "metadata": {
    "tags": []
   },
   "outputs": [],
   "source": [
    "#input galaxy params\n",
    "gal_flux = 1.e5\n",
    "gal_sigma = 1.\n",
    "e1 = 0.1\n",
    "e2 = 0.\n",
    "pixel_scale=0.2\n",
    "\n",
    "#some simple input galaxy model\n",
    "gal = galsim.Gaussian(flux=gal_flux, sigma=gal_sigma)\n",
    "gal = gal.shear(g1=e1, g2=e2)"
   ]
  },
  {
   "cell_type": "code",
   "execution_count": 4,
   "id": "be5c81f6-5ce1-4e39-8d65-4ebcdea448a7",
   "metadata": {
    "tags": []
   },
   "outputs": [],
   "source": [
    "# draw this to an image, and plot"
   ]
  },
  {
   "cell_type": "code",
   "execution_count": 18,
   "id": "d55c61a8-a9fe-40e0-92d9-cb1ac14954d8",
   "metadata": {
    "tags": []
   },
   "outputs": [
    {
     "data": {
      "text/plain": [
       "<matplotlib.image.AxesImage at 0x7f8c2728bfa0>"
      ]
     },
     "execution_count": 18,
     "metadata": {},
     "output_type": "execute_result"
    },
    {
     "data": {
      "image/png": "[encoded data removed]",
      "text/plain": [
       "<Figure size 432x288 with 1 Axes>"
      ]
     },
     "metadata": {
      "needs_background": "light"
     },
     "output_type": "display_data"
    }
   ],
   "source": [
    "%matplotlib inline\n",
    "#galaxy image\n",
    "\n",
    "fig,ax=plt.subplots()\n",
    "gal_im = gal.drawImage(scale=0.2)\n",
    "ax.imshow(gal_im.array)"
   ]
  },
  {
   "cell_type": "markdown",
   "id": "57db5f00-a1cc-43d2-86e2-cc20abbc2733",
   "metadata": {},
   "source": [
    "## Measure the ellipticity\n",
    "\n",
    "# Use quadrulpole moments:\n",
    "\n",
    "# First find centroid:\n",
    "# $[\\bar{x_1},\\bar{x_2}] = \\frac{\\int \\mathrm{d}^2{x} I(x_1,x_2) [x_1,x_2]}{\\int  \\mathrm{d}^2{x} I(x_1,x_2)} $\n",
    "\n",
    "# Then compute quadrupole moments (c.f. variance = 2nd moment of PDF):\n",
    "# $Q_{ij} =  \\frac{\\int \\mathrm{d}^2{x} I(x_1,x_2)[x_i-\\bar{x_i},x_j-\\bar{x_j}]}{\\int  \\mathrm{d}^2{x} I(x_1,y_2)}$\n",
    "\n",
    "# Now define ellipticity:\n",
    "# $e_1 = \\frac{Q_{11} - Q_{22}}{Q_{11} + Q_{22} + 2\\sqrt{Q_{11}Q_{22}-Q_{12}^2}}$, $e_2 = \\frac{Q_{12}}{Q_{11} + Q_{22} + 2\\sqrt{Q_{11}Q_{22}-Q_{12}^2}}$"
   ]
  },
  {
   "cell_type": "code",
   "execution_count": 21,
   "id": "8b1c79e4-17cf-4ca3-8aac-910cf57b5ce8",
   "metadata": {
    "tags": []
   },
   "outputs": [],
   "source": [
    "def get_centroid(gal_im):\n",
    "    X,Y = np.meshgrid(np.arange(gal_im.shape[0]), np.arange(gal_im.shape[1]))\n",
    "    denom = np.sum(gal_im)\n",
    "    return (np.sum(gal_im*X)/denom, np.sum(gal_im*Y)/denom)\n",
    "\n",
    "def get_second_moments(gal_im):\n",
    "    X,Y = np.meshgrid(np.arange(gal_im.shape[0]), np.arange(gal_im.shape[1]))\n",
    "    xbar,ybar = get_centroid(gal_im)\n",
    "    denom = np.sum(gal_im)\n",
    "    Qxx = np.sum( gal_im * (X-xbar)**2 )\n",
    "    Qyy = np.sum( gal_im * (Y-ybar)**2 )\n",
    "    Qxy = np.sum( gal_im * (X-xbar) * (Y-ybar) )\n",
    "    return Qxx, Qyy, Qxy\n",
    "\n",
    "def get_shape(gal_im):\n",
    "    Qxx, Qyy, Qxy = get_second_moments(gal_im)\n",
    "    e1_num = (Qxx - Qyy)\n",
    "    e2_num = 2*Qxy\n",
    "    denom = Qxx + Qyy + 2*np.sqrt(Qxx*Qyy - Qxy**2)\n",
    "    return (e1_num/denom, e2_num/denom)"
   ]
  },
  {
   "cell_type": "code",
   "execution_count": 22,
   "id": "64b0a533-fba7-4874-a1f6-a1c284256434",
   "metadata": {
    "tags": []
   },
   "outputs": [
    {
     "name": "stdout",
     "output_type": "stream",
     "text": [
      "(0.09966773955245671, -8.552438853584909e-08)\n"
     ]
    }
   ],
   "source": [
    "print(get_shape(gal_im.array))"
   ]
  },
  {
   "cell_type": "code",
   "execution_count": null,
   "id": "823a7077-b9a3-4e67-b86f-8dffad1f9a4d",
   "metadata": {},
   "outputs": [],
   "source": []
  }
 ],
 "metadata": {
  "kernelspec": {
   "display_name": "lenspipe",
   "language": "python",
   "name": "lenspipe"
  },
  "language_info": {
   "codemirror_mode": {
    "name": "ipython",
    "version": 3
   },
   "file_extension": ".py",
   "mimetype": "text/x-python",
   "name": "python",
   "nbconvert_exporter": "python",
   "pygments_lexer": "ipython3",
   "version": "3.8.8"
  }
 },
 "nbformat": 4,
 "nbformat_minor": 5
}
